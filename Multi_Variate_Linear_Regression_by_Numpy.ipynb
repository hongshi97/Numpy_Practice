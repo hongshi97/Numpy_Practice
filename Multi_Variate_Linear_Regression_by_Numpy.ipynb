{
  "nbformat": 4,
  "nbformat_minor": 0,
  "metadata": {
    "colab": {
      "name": "Multi-Variate Linear Regression by Numpy.ipynb",
      "provenance": [],
      "collapsed_sections": []
    },
    "kernelspec": {
      "name": "python3",
      "display_name": "Python 3"
    },
    "language_info": {
      "name": "python"
    }
  },
  "cells": [
    {
      "cell_type": "markdown",
      "source": [
        "# Numpy 이용 Multi-variate Linear Regression 구현"
      ],
      "metadata": {
        "id": "0BtOKWk0UmsW"
      }
    },
    {
      "cell_type": "markdown",
      "source": [
        "- 참고한 사이트: https://wikidocs.net/54841 중 \"03. 다중 선형 회귀\" 파트"
      ],
      "metadata": {
        "id": "oE4ZxOL5dh0q"
      }
    },
    {
      "cell_type": "markdown",
      "source": [
        "- input : $x_{i} \\in \\mathbb{R}^{n}$\n",
        "- output : $y_{i} \\in \\mathbb{R}$\n",
        "- error function : SSE $\\frac{1}{2}\\sum_{i=1}^{n}(y_{i} - x_{i})^{2}$ or MSE $\\frac{1}{n}\\sum_{i=1}^{n}(y_{i} - x_{i})^{2}$ or else (경사손실법으로 학습 가능한 함수는 다 ok)\n",
        "- learning algorithm : gradient descent"
      ],
      "metadata": {
        "id": "rn7KJbiZUzVb"
      }
    },
    {
      "cell_type": "markdown",
      "source": [
        "- Multi-variate Regression: y = $w_{1}$ $x_{1}$ + $w_{2}$ $x_{2}$ + ... + b"
      ],
      "metadata": {
        "id": "NMA1blvyXFhZ"
      }
    },
    {
      "cell_type": "code",
      "source": [
        "import numpy as np\n",
        "import matplotlib.pyplot as plt\n",
        "\n",
        "# 임의의 X와 Y 생성\n",
        "X = np.random.randint(0,10, size = (2,3))  # X_i.shape = (1,3) = (3,)\n",
        "Y = np.random.randint(0,5, size = 2) # Y_i.shape = (1,)\n",
        "\n",
        "print(f'X; {X}, X.shape: {X.shape}')\n",
        "print(f'Y: {Y}, Y.shape: {Y.shape}')"
      ],
      "metadata": {
        "colab": {
          "base_uri": "https://localhost:8080/"
        },
        "id": "Rqjtp8fWIhPg",
        "outputId": "b351b672-aa96-40c7-f7db-4e7f21c6450c"
      },
      "execution_count": null,
      "outputs": [
        {
          "output_type": "stream",
          "name": "stdout",
          "text": [
            "X; [[0 4 5]\n",
            " [7 0 9]], X.shape: (2, 3)\n",
            "Y: [2 1], Y.shape: (2,)\n"
          ]
        }
      ]
    },
    {
      "cell_type": "code",
      "source": [
        "# 구현용\n",
        "\n",
        "class LinearModel:\n",
        "  def __init__(\n",
        "    self\n",
        "  ):\n",
        "    \"\"\"선형 회귀 모형 초기화. y = w1x1 + w2x2 + ... + b\n",
        "    \"\"\"\n",
        "    self.W = 0.   # 인스턴스 변수로 W, b, lr 선언\n",
        "    self.b = 0.\n",
        "    self.lr = 0.001\n",
        "\n",
        "  def forward(\n",
        "    self,\n",
        "    X: np.array,\n",
        "    Y: np.array\n",
        "  ) -> (np.array, np.array):\n",
        "    \n",
        "    self.W = np.full(X.shape[1], fill_value = 1)\n",
        "\n",
        "    '''\n",
        "    X.shape = (m,n) => 본 코드에서는 X.shape = (2,3)\n",
        "    W.shape = (n,)  =>               W.shape = (3,)\n",
        "    b.shape = (1,)  =>               b.shape = (1,)\n",
        "    Y.shape = (m,)  =>               Y.shape = (2,)\n",
        "    '''\n",
        "\n",
        "    # 입력 데이터로부터 y_hat과 error 값을 구하는 부분\n",
        "    y_hat = np.dot(X, self.W) + self.b  # 현재 y_hat = np.dot(X, self.W) + self.b라고 짰는데, y_hat.shape = (2,) 가 아니라 (2,3)이 나오는 상황,,,\n",
        "    error = (y_hat - Y) ** 2\n",
        "\n",
        "    return y_hat, error\n",
        "\n",
        "    raise NotImplementedError\n",
        "\n",
        "\n",
        "  def backward(      # backward() 함수는 input으로 loss만 들어감\n",
        "    self,\n",
        "    loss: np.array\n",
        "  ):\n",
        "    # error 값을 이용해서 W, b 값을 업데이트하는 부분 \n",
        "    \n",
        "    # Multi-variate 에서는 X와 W 가 각각 행렬, 벡터 형태니까 인덱싱 하면서 해야할 듯.\n",
        "    \n",
        "    # 방법1) w_1, w_2, w_3 하나씩 쓴 거\n",
        "    # self.W[0] = self.W[0] - self.lr*((y_hat - Y)*X[:,0]).mean()\n",
        "    # self.W[1] = self.W[1] - self.lr*((y_hat - Y)*X[:,1]).mean()\n",
        "    # self.W[2] = self.W[2] - self.lr*((y_hat - Y)*X[:,2]).mean()\n",
        "\n",
        "\n",
        "    # 방법2) W 업데이트 하는 거 간소화 하면\n",
        "    for i in range(X.shape[1]):\n",
        "        self.W[i] = self.W[i] - self.lr*((y_hat - Y)*X[:,i]).mean()\n",
        "        \n",
        "    # Bias 업데이트\n",
        "    self.b = self.b - self.lr*(y_hat - Y).mean()\n",
        "\n",
        "    return self.W, self.b  # backward() 함수가 호출되면 backward() 함수의 결과인 self.W와 self.b가 다시 LinearModel 인스턴스의 W와 b에 저장됨\n",
        "\n",
        "    raise NotImplementedError"
      ],
      "metadata": {
        "id": "S0gDh1BnUqOe"
      },
      "execution_count": null,
      "outputs": []
    },
    {
      "cell_type": "code",
      "source": [
        "epochs = 30000\n",
        "model = LinearModel()\n",
        "losses = []\n",
        "for _ in range(epochs):  # 특정 변수명을 사용한 것이 아니라 _을 했네! for문 안에 특정 변수명(ex. i)을 사용하지 않아서 이렇게 해도 되는구나\n",
        "  y_hat, loss = model.forward(X, Y)  # y_hat 및 Loss 계산 (Feed-forward)\n",
        "  model.backward(loss)  # Gradient Descent 이용 Backpropagation 수행\n",
        "  losses.append(np.mean(loss)) # 매 에포크마다 평균 Loss 값 구해서 losses라는 리스트에 저장\n",
        "print(\"실제값: \",Y)\n",
        "print(\"예측값: \", y_hat)\n",
        "print('y = {0:.4f}x_1 + {1:.4f}x_2 + {2:.4f}x_3 + {3:.4f}'.format(model.W[0], model.W[1], model.W[2], model.b))\n",
        "plt.plot(range(epochs), losses)"
      ],
      "metadata": {
        "colab": {
          "base_uri": "https://localhost:8080/",
          "height": 338
        },
        "id": "eBqwJ_uzUsgA",
        "outputId": "3d05e9d8-094d-4d84-976f-fc69e1f0e589"
      },
      "execution_count": null,
      "outputs": [
        {
          "output_type": "stream",
          "name": "stdout",
          "text": [
            "실제값:  [2 1]\n",
            "예측값:  [-2.  5.]\n",
            "y = 0.0000x_1 + 1.0000x_2 + 0.0000x_3 + -11.0000\n"
          ]
        },
        {
          "output_type": "execute_result",
          "data": {
            "text/plain": [
              "[<matplotlib.lines.Line2D at 0x7f807dd27910>]"
            ]
          },
          "metadata": {},
          "execution_count": 75
        },
        {
          "output_type": "display_data",
          "data": {
            "text/plain": [
              "<Figure size 432x288 with 1 Axes>"
            ],
            "image/png": "[encoded data removed]"
          },
          "metadata": {
            "needs_background": "light"
          }
        }
      ]
    }
  ]
}