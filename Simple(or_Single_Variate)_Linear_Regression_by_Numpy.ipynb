{
  "nbformat": 4,
  "nbformat_minor": 0,
  "metadata": {
    "colab": {
      "name": "Simple(or Single-Variate) Linear Regression by Numpy.ipynb",
      "provenance": [],
      "collapsed_sections": []
    },
    "kernelspec": {
      "name": "python3",
      "display_name": "Python 3"
    },
    "language_info": {
      "name": "python"
    }
  },
  "cells": [
    {
      "cell_type": "markdown",
      "source": [
        "# Numpy 이용 Linear Regression 구현"
      ],
      "metadata": {
        "id": "0BtOKWk0UmsW"
      }
    },
    {
      "cell_type": "markdown",
      "source": [
        "- 참고한 사이트 1: https://teddylee777.github.io/scikit-learn/gradient-descent\n",
        "- 참고한 사이트 2: https://iyousys.tistory.com/42 (이 사이트가 조금 더 디테일하게 설명나와 있음)"
      ],
      "metadata": {
        "id": "oE4ZxOL5dh0q"
      }
    },
    {
      "cell_type": "markdown",
      "source": [
        "- input : $x_{i} \\in \\mathbb{R}$\n",
        "- output : $y_{i} \\in \\mathbb{R}$\n",
        "- error function : SSE $\\frac{1}{2}\\sum_{i=1}^{n}(y_{i} - x_{i})^{2}$ or MSE $\\frac{1}{n}\\sum_{i=1}^{n}(y_{i} - x_{i})^{2}$ or else (경사손실법으로 학습 가능한 함수는 다 ok)\n",
        "- learning algorithm : gradient descent"
      ],
      "metadata": {
        "id": "rn7KJbiZUzVb"
      }
    },
    {
      "cell_type": "markdown",
      "source": [
        "- Linear Regression: y = wx + b"
      ],
      "metadata": {
        "id": "NMA1blvyXFhZ"
      }
    },
    {
      "cell_type": "code",
      "execution_count": null,
      "metadata": {
        "colab": {
          "base_uri": "https://localhost:8080/",
          "height": 319
        },
        "id": "3qyLqTUlUlmi",
        "outputId": "5edaa706-3bf4-4a51-c24c-86f26fd28ef4"
      },
      "outputs": [
        {
          "output_type": "stream",
          "name": "stdout",
          "text": [
            "X: [1 2 3 4 5]\n",
            "Y: [1 3 3 4 5]\n"
          ]
        },
        {
          "output_type": "execute_result",
          "data": {
            "text/plain": [
              "<matplotlib.collections.PathCollection at 0x7f872dc2ee90>"
            ]
          },
          "metadata": {},
          "execution_count": 3
        },
        {
          "output_type": "display_data",
          "data": {
            "text/plain": [
              "<Figure size 432x288 with 1 Axes>"
            ],
            "image/png": "[encoded data removed]"
          },
          "metadata": {
            "needs_background": "light"
          }
        }
      ],
      "source": [
        "import numpy as np\n",
        "import matplotlib.pyplot as plt\n",
        "\n",
        "X = np.array([1,2,3,4,5]) # X는 Vector 형태\n",
        "Y = np.array([1,3,3,4,5]) # Y는 Vector 형태\n",
        "\n",
        "print(\"X:\", X)\n",
        "print(\"Y:\", Y)\n",
        "\n",
        "plt.scatter(X, Y)"
      ]
    },
    {
      "cell_type": "code",
      "source": [
        "# 원본\n",
        "class LinearModel:\n",
        "  def __init__(\n",
        "    self\n",
        "  ):\n",
        "    \"\"\"선형 회귀 모형 초기화. Y=WX+b\n",
        "    \"\"\"\n",
        "    self.W = 1.\n",
        "    self.b = 0.\n",
        "    self.lr = 0.001\n",
        "\n",
        "  def forward(\n",
        "    self,\n",
        "    X: np.array,\n",
        "    Y: np.array\n",
        "  ) -> (np.array, np.array):\n",
        "    # 이 부분을 작성하세요.\n",
        "    # 입력 데이터로부터 y_hat과 error 값을 구하는 부분 입니다.\n",
        "\n",
        "    raise NotImplementedError\n",
        "\n",
        "\n",
        "  def backward(      # backward() 함수는 input으로 loss만 들어감\n",
        "    self,\n",
        "    loss: np.array\n",
        "  ):\n",
        "    # 이 부분을 작성하세요.\n",
        "    # error 값을 이용해서 W, b 값을 미세 조정하는 부분 입니다.\n",
        "    \n",
        "    raise NotImplementedError"
      ],
      "metadata": {
        "id": "eEWjaCoSh0L1"
      },
      "execution_count": null,
      "outputs": []
    },
    {
      "cell_type": "code",
      "source": [
        "# 구현용\n",
        "\n",
        "class LinearModel:\n",
        "  def __init__(\n",
        "    self\n",
        "  ):\n",
        "    \"\"\"선형 회귀 모형 초기화. Y=WX+b\n",
        "    \"\"\"\n",
        "    self.W = 1.   # 인스턴스 변수로 W, b, lr 선언\n",
        "    self.b = 0.\n",
        "    self.lr = 0.001\n",
        "\n",
        "  def forward(\n",
        "    self,\n",
        "    X: np.array,\n",
        "    Y: np.array\n",
        "  ) -> (np.array, np.array):\n",
        "    \n",
        "    # 입력 데이터로부터 y_hat과 error 값을 구하는 부분\n",
        "    y_hat = self.W * X + self.b # y_hat.shape == X.shape (y_hat은 Vector 형태)\n",
        "    error = (y_hat - Y) ** 2  # error.shape == Y.shape (error는 Vector 형태)\n",
        "\n",
        "    return y_hat, error\n",
        "\n",
        "    raise NotImplementedError\n",
        "\n",
        "\n",
        "  def backward(      # backward() 함수는 input으로 loss만 들어감\n",
        "    self,\n",
        "    loss: np.array\n",
        "  ):\n",
        "    # error 값을 이용해서 W, b 값을 업데이트하는 부분\n",
        "    \n",
        "    self.W = self.W - self.lr*((y_hat - Y) * X).mean()  # 의문점: backward() 함수에는 y_hat, Y, X가 Input으로 안 들어가는데 어떻게 동작하는거지,,,? \n",
        "    self.b = self.b - self.lr*(y_hat - Y).mean()        \n",
        "\n",
        "\n",
        "    return self.W, self.b  # backward() 함수가 호출되면 backward() 함수의 결과인 self.W와 self.b가 다시 LinearModel 인스턴스의 W와 b에 저장됨\n",
        "\n",
        "    raise NotImplementedError"
      ],
      "metadata": {
        "id": "S0gDh1BnUqOe"
      },
      "execution_count": null,
      "outputs": []
    },
    {
      "cell_type": "code",
      "source": [
        "epochs = 30000\n",
        "model = LinearModel()\n",
        "losses = []\n",
        "for _ in range(epochs):  # 특정 변수명을 사용한 것이 아니라 _을 했네! for문 안에 특정 변수명(ex. i)을 사용하지 않아서 이렇게 해도 되는구나\n",
        "  y_hat, loss = model.forward(X, Y)  # y_hat 및 Loss 계산 (Feed-forward)\n",
        "  model.backward(loss)  # Gradient Descent 이용 Backpropagation 수행\n",
        "  losses.append(np.mean(loss)) # 매 에포크마다 평균 Loss 값 구해서 losses라는 리스트에 저장\n",
        "print(\"실제값: \",Y)\n",
        "print(\"예측값: \", y_hat)\n",
        "print(\"Loss: \",loss)\n",
        "print(\"y={0:.2f}x+{1:.2f}\".format(model.W, model.b))\n",
        "plt.plot(range(epochs), losses)"
      ],
      "metadata": {
        "colab": {
          "base_uri": "https://localhost:8080/",
          "height": 374
        },
        "id": "eBqwJ_uzUsgA",
        "outputId": "4c253dce-410a-499b-9b75-73cba6933047"
      },
      "execution_count": null,
      "outputs": [
        {
          "output_type": "stream",
          "name": "stdout",
          "text": [
            "실제값:  [1 3 3 4 5]\n",
            "예측값:  [1.39777762 2.298629   3.19948039 4.10033177 5.00118315]\n",
            "Loss:  [1.58227035e-01 4.91921275e-01 3.97924245e-02 1.00664639e-02\n",
            " 1.39984959e-06]\n",
            "y=0.90x+0.50\n"
          ]
        },
        {
          "output_type": "execute_result",
          "data": {
            "text/plain": [
              "[<matplotlib.lines.Line2D at 0x7fd914cc20d0>]"
            ]
          },
          "metadata": {},
          "execution_count": 58
        },
        {
          "output_type": "display_data",
          "data": {
            "text/plain": [
              "<Figure size 432x288 with 1 Axes>"
            ],
            "image/png": "[encoded data removed]"
          },
          "metadata": {
            "needs_background": "light"
          }
        }
      ]
    }
  ]
}